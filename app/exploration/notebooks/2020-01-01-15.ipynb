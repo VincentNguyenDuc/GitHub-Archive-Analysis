{
 "cells": [
  {
   "cell_type": "code",
   "execution_count": null,
   "metadata": {},
   "outputs": [],
   "source": [
    "import pandas as pd\n",
    "from utils import rename_cols"
   ]
  },
  {
   "cell_type": "code",
   "execution_count": null,
   "metadata": {},
   "outputs": [],
   "source": [
    "import os\n",
    "filename = \"2020-01-01-15.json.gz\"\n",
    "os.system(f\"wget https://data.gharchive.org/{filename} -O ../data/{filename}\")\n",
    "df = pd.read_json(f\"../data/{filename}\", lines=True)"
   ]
  },
  {
   "cell_type": "code",
   "execution_count": null,
   "metadata": {},
   "outputs": [],
   "source": [
    "df.dropna(inplace=True)\n",
    "df.drop_duplicates(inplace=True)\n",
    "\n",
    "df.drop([\"payload\", \"org\"], axis=1, inplace=True)\n",
    "\n",
    "actor = pd.json_normalize(df[\"actor\"])\n",
    "actor = actor.drop(\"gravatar_id\", axis=1)\n",
    "rename_cols(actor, \"actor\")\n",
    "\n",
    "repo = pd.json_normalize(df[\"repo\"])\n",
    "rename_cols(repo, \"repo\")\n",
    "\n",
    "df = df.join([actor, repo])\n",
    "df.drop([\"actor\", \"repo\"], axis=1, inplace=True)\n",
    "df.drop(\"actor_display_login\", axis=1, inplace=True)\n",
    "df[\"created_at\"] = pd.to_datetime(df[\"created_at\"]).dt.tz_localize(None)"
   ]
  },
  {
   "cell_type": "code",
   "execution_count": null,
   "metadata": {},
   "outputs": [],
   "source": [
    "df.dtypes"
   ]
  }
 ],
 "metadata": {
  "kernelspec": {
   "display_name": "DE",
   "language": "python",
   "name": "python3"
  },
  "language_info": {
   "codemirror_mode": {
    "name": "ipython",
    "version": 3
   },
   "file_extension": ".py",
   "mimetype": "text/x-python",
   "name": "python",
   "nbconvert_exporter": "python",
   "pygments_lexer": "ipython3",
   "version": "3.10.13"
  }
 },
 "nbformat": 4,
 "nbformat_minor": 2
}
