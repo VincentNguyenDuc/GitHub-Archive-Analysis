{
 "cells": [
  {
   "cell_type": "code",
   "execution_count": 2,
   "metadata": {},
   "outputs": [],
   "source": [
    "import pandas as pd\n",
    "filename = \"2020-01-01-20.json.gz\""
   ]
  },
  {
   "cell_type": "code",
   "execution_count": null,
   "metadata": {},
   "outputs": [],
   "source": [
    "import os\n",
    "os.system(f\"wget https://data.gharchive.org/{filename} -O ../data/{filename}\")"
   ]
  },
  {
   "cell_type": "code",
   "execution_count": 3,
   "metadata": {},
   "outputs": [],
   "source": [
    "df = pd.read_json(f\"../data/{filename}\", lines=True)"
   ]
  },
  {
   "cell_type": "code",
   "execution_count": null,
   "metadata": {},
   "outputs": [],
   "source": [
    "df"
   ]
  },
  {
   "cell_type": "code",
   "execution_count": null,
   "metadata": {},
   "outputs": [],
   "source": [
    "df[\"actor\"] = pd \\\n",
    "    .json_normalize(df[\"actor\"]) \\\n",
    "    .drop(\n",
    "        labels=[\"gravatar_id\", \"display_login\", \"avatar_url\"],\n",
    "        axis=1\n",
    "    ).to_dict(orient=\"records\")"
   ]
  },
  {
   "cell_type": "code",
   "execution_count": null,
   "metadata": {},
   "outputs": [],
   "source": [
    "df[\"org\"] = pd \\\n",
    "    .json_normalize(df[\"org\"]) \\\n",
    "    .drop(\n",
    "        labels=[\"gravatar_id\", \"avatar_url\"],\n",
    "        axis=1\n",
    "    ).to_dict(orient=\"records\")"
   ]
  },
  {
   "cell_type": "code",
   "execution_count": null,
   "metadata": {},
   "outputs": [],
   "source": [
    "for key, value in df.groupby(\"type\"):\n",
    "    value.to_json(\n",
    "        path_or_buf=f\"../data/{key}.json\",\n",
    "        orient='records',\n",
    "        lines=True,\n",
    "        date_format=\"iso\"\n",
    "    )"
   ]
  }
 ],
 "metadata": {
  "kernelspec": {
   "display_name": "DE",
   "language": "python",
   "name": "python3"
  },
  "language_info": {
   "codemirror_mode": {
    "name": "ipython",
    "version": 3
   },
   "file_extension": ".py",
   "mimetype": "text/x-python",
   "name": "python",
   "nbconvert_exporter": "python",
   "pygments_lexer": "ipython3",
   "version": "3.10.13"
  }
 },
 "nbformat": 4,
 "nbformat_minor": 2
}
