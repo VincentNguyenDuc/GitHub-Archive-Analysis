{
 "cells": [
  {
   "cell_type": "code",
   "execution_count": null,
   "metadata": {},
   "outputs": [],
   "source": [
    "from google.oauth2 import service_account\n",
    "from google.cloud.bigquery import Client\n",
    "from constants import GcpConstants\n",
    "\n",
    "gcp_creds = service_account\\\n",
    "    .Credentials \\\n",
    "    .from_service_account_file(\n",
    "        \"../.env/friendly-basis-406112-cd03d2f6a237.json\"\n",
    "    )\n",
    "\n",
    "client = Client(\n",
    "    project=GcpConstants.PROJECT_ID,\n",
    "    credentials=gcp_creds,\n",
    "    location=GcpConstants.LOCATION\n",
    ")"
   ]
  },
  {
   "cell_type": "code",
   "execution_count": null,
   "metadata": {},
   "outputs": [],
   "source": [
    "hour_count = client.query(\n",
    "    f\"\"\"\n",
    "    select \n",
    "        extract(hour from created_at) hour,\n",
    "        count(*) total_actions\n",
    "    from `{GcpConstants.PROJECT_ID}.{GcpConstants.BQ_DATASET}.2020`\n",
    "    group by hour\n",
    "    order by hour\n",
    "    \"\"\",\n",
    "    location=GcpConstants.LOCATION,\n",
    "    project=GcpConstants.PROJECT_ID\n",
    ").to_dataframe()\n",
    "hour_count"
   ]
  },
  {
   "cell_type": "code",
   "execution_count": null,
   "metadata": {},
   "outputs": [],
   "source": [
    "types_count = client.query(\n",
    "    f\"\"\"\n",
    "    select \n",
    "        type,\n",
    "        count(*) total_actions\n",
    "    from `{GcpConstants.PROJECT_ID}.{GcpConstants.BQ_DATASET}.2020`\n",
    "    group by type\n",
    "    order by total_actions\n",
    "    \"\"\",\n",
    "    location=GcpConstants.LOCATION,\n",
    "    project=GcpConstants.PROJECT_ID\n",
    ").to_dataframe()\n",
    "types_count"
   ]
  }
 ],
 "metadata": {
  "kernelspec": {
   "display_name": "streamlit",
   "language": "python",
   "name": "python3"
  },
  "language_info": {
   "codemirror_mode": {
    "name": "ipython",
    "version": 3
   },
   "file_extension": ".py",
   "mimetype": "text/x-python",
   "name": "python",
   "nbconvert_exporter": "python",
   "pygments_lexer": "ipython3",
   "version": "3.10.13"
  }
 },
 "nbformat": 4,
 "nbformat_minor": 2
}
