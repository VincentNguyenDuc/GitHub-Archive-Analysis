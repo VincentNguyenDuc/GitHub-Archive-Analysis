{
 "cells": [
  {
   "cell_type": "code",
   "execution_count": 1,
   "metadata": {},
   "outputs": [],
   "source": [
    "from google.oauth2 import service_account\n",
    "from google.cloud.bigquery import Client\n",
    "from constants import GcpConstants\n",
    "import pandas as pd\n",
    "\n",
    "gcp_creds = service_account\\\n",
    "    .Credentials \\\n",
    "    .from_service_account_file(\n",
    "        \"../../.env/friendly-basis-406112-404b797b267d.json\"\n",
    "    )\n",
    "\n",
    "client = Client(\n",
    "    project=GcpConstants.PROJECT_ID,\n",
    "    credentials=gcp_creds,\n",
    "    location=GcpConstants.LOCATION\n",
    ")"
   ]
  },
  {
   "cell_type": "code",
   "execution_count": 23,
   "metadata": {},
   "outputs": [
    {
     "data": {
      "text/html": [
       "<div>\n",
       "<style scoped>\n",
       "    .dataframe tbody tr th:only-of-type {\n",
       "        vertical-align: middle;\n",
       "    }\n",
       "\n",
       "    .dataframe tbody tr th {\n",
       "        vertical-align: top;\n",
       "    }\n",
       "\n",
       "    .dataframe thead th {\n",
       "        text-align: right;\n",
       "    }\n",
       "</style>\n",
       "<table border=\"1\" class=\"dataframe\">\n",
       "  <thead>\n",
       "    <tr style=\"text-align: right;\">\n",
       "      <th></th>\n",
       "      <th>hour</th>\n",
       "      <th>total_actions</th>\n",
       "    </tr>\n",
       "  </thead>\n",
       "  <tbody>\n",
       "    <tr>\n",
       "      <th>0</th>\n",
       "      <td>1</td>\n",
       "      <td>65</td>\n",
       "    </tr>\n",
       "  </tbody>\n",
       "</table>\n",
       "</div>"
      ],
      "text/plain": [
       "   hour  total_actions\n",
       "0     1             65"
      ]
     },
     "execution_count": 23,
     "metadata": {},
     "output_type": "execute_result"
    }
   ],
   "source": [
    "hour_count = client.query(\n",
    "    f\"\"\"\n",
    "    select \n",
    "        extract(hour from created_at) hour,\n",
    "        count(*) total_actions\n",
    "    from `{GcpConstants.PROJECT_ID}.{GcpConstants.BQ_DATASET}.CommitCommentEvent`\n",
    "    group by hour\n",
    "    order by hour\n",
    "    \"\"\",\n",
    "    location=GcpConstants.LOCATION,\n",
    "    project=GcpConstants.PROJECT_ID\n",
    ").to_dataframe()\n",
    "hour_count"
   ]
  },
  {
   "cell_type": "code",
   "execution_count": null,
   "metadata": {},
   "outputs": [],
   "source": [
    "types_count = client.query(\n",
    "    f\"\"\"\n",
    "    select \n",
    "        type,\n",
    "        count(*) total_actions\n",
    "    from `{GcpConstants.PROJECT_ID}.{GcpConstants.BQ_DATASET}.2020`\n",
    "    group by type\n",
    "    order by total_actions\n",
    "    \"\"\",\n",
    "    location=GcpConstants.LOCATION,\n",
    "    project=GcpConstants.PROJECT_ID\n",
    ").to_dataframe()\n",
    "types_count"
   ]
  },
  {
   "cell_type": "code",
   "execution_count": 7,
   "metadata": {},
   "outputs": [],
   "source": [
    "actor = client.query(\n",
    "    \"\"\"\n",
    "    SELECT actor FROM `friendly-basis-406112.github_archive_data_all.CommitCommentEvent`\n",
    "    \"\"\"\n",
    ").to_dataframe()"
   ]
  },
  {
   "cell_type": "code",
   "execution_count": 32,
   "metadata": {},
   "outputs": [],
   "source": [
    "url = actor[\"actor\"][64][\"url\"]\n",
    "import requests"
   ]
  },
  {
   "cell_type": "code",
   "execution_count": 33,
   "metadata": {},
   "outputs": [],
   "source": [
    "response = requests.get(url)"
   ]
  },
  {
   "cell_type": "code",
   "execution_count": 45,
   "metadata": {},
   "outputs": [],
   "source": [
    "import json"
   ]
  },
  {
   "cell_type": "code",
   "execution_count": 47,
   "metadata": {},
   "outputs": [
    {
     "data": {
      "text/plain": [
       "'Bay Area, CA'"
      ]
     },
     "execution_count": 47,
     "metadata": {},
     "output_type": "execute_result"
    }
   ],
   "source": [
    "json.loads(response.content.decode())[\"location\"]"
   ]
  }
 ],
 "metadata": {
  "kernelspec": {
   "display_name": "streamlit",
   "language": "python",
   "name": "python3"
  },
  "language_info": {
   "codemirror_mode": {
    "name": "ipython",
    "version": 3
   },
   "file_extension": ".py",
   "mimetype": "text/x-python",
   "name": "python",
   "nbconvert_exporter": "python",
   "pygments_lexer": "ipython3",
   "version": "3.10.13"
  }
 },
 "nbformat": 4,
 "nbformat_minor": 2
}
